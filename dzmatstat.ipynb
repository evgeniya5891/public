{
 "cells": [
  {
   "cell_type": "code",
   "execution_count": 3,
   "metadata": {},
   "outputs": [],
   "source": [
    "n =64,102,91,99,100,103,98,99,101,106,88,103,97,103,101,101,91,104,105,105,100,101,91,99,98,107,102,100,97,98,104,100,98,102,99,95,103,104,97,99,102,98,107,101,93,98,101,93,91,107,102,96,93,100,105,103,107,99,102,106,102,94,104,103,102\n"
   ]
  },
  {
   "cell_type": "markdown",
   "metadata": {},
   "source": [
    "1.Рассчитайте среднее (ҧ𝑥) и среднеквадратическое отклонение(𝜎𝑥)выборки. 2.Рассчитайте стандартную ошибку среднего.3.Найдите доверительные интервалы"
   ]
  },
  {
   "cell_type": "code",
   "execution_count": 31,
   "metadata": {},
   "outputs": [],
   "source": [
    "import numpy as np\n",
    "import pandas as pd\n",
    "import scipy.stats\n",
    "import numpy as np\n",
    "import seaborn as sns"
   ]
  },
  {
   "cell_type": "code",
   "execution_count": 15,
   "metadata": {},
   "outputs": [
    {
     "data": {
      "text/plain": [
       "0     64\n",
       "1    102\n",
       "2     91\n",
       "3     99\n",
       "4    100\n",
       "dtype: int64"
      ]
     },
     "execution_count": 15,
     "metadata": {},
     "output_type": "execute_result"
    }
   ],
   "source": [
    "df = pd.Series([64,102,91,99,100,103,98,99,101,106,88,103,97,103,101,101,91,104,105,105,100,101,91,99,98,107,102,100,97,98,104,100,98,102,99,95,103,104,97,99,102,98,107,101,93,98,101,93,91,107,102,96,93,100,105,103,107,99,102,106,102,94,104,103,102])\n",
    "df.head()"
   ]
  },
  {
   "cell_type": "code",
   "execution_count": 29,
   "metadata": {},
   "outputs": [
    {
     "data": {
      "image/png": "[encoded data removed]",
      "text/plain": [
       "<Figure size 432x288 with 1 Axes>"
      ]
     },
     "metadata": {
      "needs_background": "light"
     },
     "output_type": "display_data"
    }
   ],
   "source": [
    "ax = sns.distplot(df)"
   ]
  },
  {
   "cell_type": "code",
   "execution_count": 23,
   "metadata": {},
   "outputs": [
    {
     "data": {
      "text/plain": [
       "count     65.000000\n",
       "mean      99.446154\n",
       "std        6.280005\n",
       "min       64.000000\n",
       "25%       98.000000\n",
       "50%      101.000000\n",
       "75%      103.000000\n",
       "max      107.000000\n",
       "dtype: float64"
      ]
     },
     "execution_count": 23,
     "metadata": {},
     "output_type": "execute_result"
    }
   ],
   "source": [
    "df.describe() #статистические данные нашей выборки"
   ]
  },
  {
   "cell_type": "code",
   "execution_count": 32,
   "metadata": {},
   "outputs": [
    {
     "name": "stdout",
     "output_type": "stream",
     "text": [
      "(97.89050575881494, 99.44615384615385, 101.00180193349276)\n"
     ]
    }
   ],
   "source": [
    "#Вычисляем Границы доверительного интервала \n",
    "def mean_confidence_interval(data, confidence=0.95):\n",
    "    n = len(data)\n",
    "    m, se = np.mean(data), scipy.stats.sem(data)\n",
    "    h = se * scipy.stats.t.ppf((1 + confidence)/2, n)\n",
    "    return m-h,m, m+h#,h\n",
    "\n",
    "a = [64,102,91,99,100,103,98,99,101,106,88,103,97,103,101,101,91,104,105,105,100,101,91,99,98,107,102,100,97,98,104,100,98,102,99,95,103,104,97,99,102,98,107,101,93,98,101,93,91,107,102,96,93,100,105,103,107,99,102,106,102,94,104,103,102]\n",
    "\n",
    "\n",
    "print(mean_confidence_interval(a, 0.95))"
   ]
  },
  {
   "cell_type": "code",
   "execution_count": null,
   "metadata": {},
   "outputs": [],
   "source": []
  }
 ],
 "metadata": {
  "kernelspec": {
   "display_name": "Python 3",
   "language": "python",
   "name": "python3"
  },
  "language_info": {
   "codemirror_mode": {
    "name": "ipython",
    "version": 3
   },
   "file_extension": ".py",
   "mimetype": "text/x-python",
   "name": "python",
   "nbconvert_exporter": "python",
   "pygments_lexer": "ipython3",
   "version": "3.8.3"
  }
 },
 "nbformat": 4,
 "nbformat_minor": 4
}
