{
 "cells": [
  {
   "cell_type": "markdown",
   "metadata": {},
   "source": [
    "Описание проекта\n",
    "данные сервиса для продажи недвижимости — архив объявлений\n",
    "о продаже квартир в городе Н. задача — установить параметры, влияющие на\n",
    "стоимость квартиры"
   ]
  },
  {
   "cell_type": "code",
   "execution_count": null,
   "metadata": {},
   "outputs": [],
   "source": []
  },
  {
   "cell_type": "code",
   "execution_count": 70,
   "metadata": {},
   "outputs": [],
   "source": [
    "from sklearn.datasets import load_boston\n",
    "import pandas as pd\n",
    "import matplotlib.pyplot as plt\n",
    "import seaborn as sns"
   ]
  },
  {
   "cell_type": "markdown",
   "metadata": {},
   "source": [
    "Шаг 1. Открытие данных.\n",
    "Откройте данные, изучите их"
   ]
  },
  {
   "cell_type": "code",
   "execution_count": 71,
   "metadata": {},
   "outputs": [
    {
     "data": {
      "text/html": [
       "<div>\n",
       "<style scoped>\n",
       "    .dataframe tbody tr th:only-of-type {\n",
       "        vertical-align: middle;\n",
       "    }\n",
       "\n",
       "    .dataframe tbody tr th {\n",
       "        vertical-align: top;\n",
       "    }\n",
       "\n",
       "    .dataframe thead th {\n",
       "        text-align: right;\n",
       "    }\n",
       "</style>\n",
       "<table border=\"1\" class=\"dataframe\">\n",
       "  <thead>\n",
       "    <tr style=\"text-align: right;\">\n",
       "      <th></th>\n",
       "      <th>last_price</th>\n",
       "      <th>total_area</th>\n",
       "      <th>rooms</th>\n",
       "      <th>ceiling_height</th>\n",
       "      <th>floors_total</th>\n",
       "      <th>living_area</th>\n",
       "      <th>floor</th>\n",
       "      <th>kitchen_area</th>\n",
       "      <th>cityCenters_nearest</th>\n",
       "      <th>days_exposition</th>\n",
       "    </tr>\n",
       "  </thead>\n",
       "  <tbody>\n",
       "    <tr>\n",
       "      <th>0</th>\n",
       "      <td>13000000</td>\n",
       "      <td>108.0</td>\n",
       "      <td>3</td>\n",
       "      <td>2.70</td>\n",
       "      <td>16</td>\n",
       "      <td>51.000000</td>\n",
       "      <td>8</td>\n",
       "      <td>25.000000</td>\n",
       "      <td>16028.0</td>\n",
       "      <td>95</td>\n",
       "    </tr>\n",
       "    <tr>\n",
       "      <th>2</th>\n",
       "      <td>5196000</td>\n",
       "      <td>56.0</td>\n",
       "      <td>2</td>\n",
       "      <td>2.70</td>\n",
       "      <td>5</td>\n",
       "      <td>34.300000</td>\n",
       "      <td>4</td>\n",
       "      <td>8.300000</td>\n",
       "      <td>13933.0</td>\n",
       "      <td>558</td>\n",
       "    </tr>\n",
       "    <tr>\n",
       "      <th>3</th>\n",
       "      <td>64900000</td>\n",
       "      <td>159.0</td>\n",
       "      <td>3</td>\n",
       "      <td>2.70</td>\n",
       "      <td>14</td>\n",
       "      <td>84.324115</td>\n",
       "      <td>9</td>\n",
       "      <td>74.675885</td>\n",
       "      <td>6800.0</td>\n",
       "      <td>424</td>\n",
       "    </tr>\n",
       "    <tr>\n",
       "      <th>4</th>\n",
       "      <td>10000000</td>\n",
       "      <td>100.0</td>\n",
       "      <td>2</td>\n",
       "      <td>3.03</td>\n",
       "      <td>14</td>\n",
       "      <td>32.000000</td>\n",
       "      <td>13</td>\n",
       "      <td>41.000000</td>\n",
       "      <td>8098.0</td>\n",
       "      <td>121</td>\n",
       "    </tr>\n",
       "    <tr>\n",
       "      <th>7</th>\n",
       "      <td>7915000</td>\n",
       "      <td>71.6</td>\n",
       "      <td>2</td>\n",
       "      <td>2.70</td>\n",
       "      <td>24</td>\n",
       "      <td>37.972369</td>\n",
       "      <td>22</td>\n",
       "      <td>18.900000</td>\n",
       "      <td>11634.0</td>\n",
       "      <td>95</td>\n",
       "    </tr>\n",
       "  </tbody>\n",
       "</table>\n",
       "</div>"
      ],
      "text/plain": [
       "   last_price  total_area  rooms  ceiling_height  floors_total  living_area  \\\n",
       "0    13000000       108.0      3            2.70            16    51.000000   \n",
       "2     5196000        56.0      2            2.70             5    34.300000   \n",
       "3    64900000       159.0      3            2.70            14    84.324115   \n",
       "4    10000000       100.0      2            3.03            14    32.000000   \n",
       "7     7915000        71.6      2            2.70            24    37.972369   \n",
       "\n",
       "   floor  kitchen_area  cityCenters_nearest  days_exposition  \n",
       "0      8     25.000000              16028.0               95  \n",
       "2      4      8.300000              13933.0              558  \n",
       "3      9     74.675885               6800.0              424  \n",
       "4     13     41.000000               8098.0              121  \n",
       "7     22     18.900000              11634.0               95  "
      ]
     },
     "execution_count": 71,
     "metadata": {},
     "output_type": "execute_result"
    }
   ],
   "source": [
    "df = pd.read_csv('datams.csv')\n",
    "df.head()"
   ]
  },
  {
   "cell_type": "markdown",
   "metadata": {},
   "source": [
    "last_price — цена на момент снятия с публикации\n",
    "\n",
    "total_area — площадь квартиры в квадратных метрах (м²)\n",
    "\n",
    "rooms — число комнат\n",
    "\n",
    "ceiling_height — высота потолков (м)\n",
    "\n",
    "floors_total — всего этажей в доме\n",
    "\n",
    "living_area — жилая площадь в квадратных метрах(м²)\n",
    "\n",
    "floor — этаж\n",
    "\n",
    "kitchen_area — площадь кухни в квадратных метрах (м²)\n",
    "\n",
    "cityCenters_nearest — расстояние до центра города (м)\n",
    "\n",
    "days_exposition — сколько дней было размещено объявление (от публикации до снятия)\n"
   ]
  },
  {
   "cell_type": "code",
   "execution_count": 72,
   "metadata": {},
   "outputs": [
    {
     "name": "stdout",
     "output_type": "stream",
     "text": [
      "<class 'pandas.core.frame.DataFrame'>\n",
      "Int64Index: 15591 entries, 0 to 23697\n",
      "Data columns (total 10 columns):\n",
      " #   Column               Non-Null Count  Dtype  \n",
      "---  ------               --------------  -----  \n",
      " 0   last_price           15591 non-null  int64  \n",
      " 1   total_area           15591 non-null  float64\n",
      " 2   rooms                15591 non-null  int64  \n",
      " 3   ceiling_height       15591 non-null  float64\n",
      " 4   floors_total         15591 non-null  int64  \n",
      " 5   living_area          15591 non-null  float64\n",
      " 6   floor                15591 non-null  int64  \n",
      " 7   kitchen_area         15591 non-null  float64\n",
      " 8   cityCenters_nearest  15591 non-null  float64\n",
      " 9   days_exposition      15591 non-null  int64  \n",
      "dtypes: float64(5), int64(5)\n",
      "memory usage: 1.3 MB\n"
     ]
    }
   ],
   "source": [
    "df.info()"
   ]
  },
  {
   "cell_type": "code",
   "execution_count": 73,
   "metadata": {},
   "outputs": [
    {
     "data": {
      "text/html": [
       "<div>\n",
       "<style scoped>\n",
       "    .dataframe tbody tr th:only-of-type {\n",
       "        vertical-align: middle;\n",
       "    }\n",
       "\n",
       "    .dataframe tbody tr th {\n",
       "        vertical-align: top;\n",
       "    }\n",
       "\n",
       "    .dataframe thead th {\n",
       "        text-align: right;\n",
       "    }\n",
       "</style>\n",
       "<table border=\"1\" class=\"dataframe\">\n",
       "  <thead>\n",
       "    <tr style=\"text-align: right;\">\n",
       "      <th></th>\n",
       "      <th>last_price</th>\n",
       "      <th>total_area</th>\n",
       "      <th>rooms</th>\n",
       "      <th>ceiling_height</th>\n",
       "      <th>floors_total</th>\n",
       "      <th>living_area</th>\n",
       "      <th>floor</th>\n",
       "      <th>kitchen_area</th>\n",
       "      <th>cityCenters_nearest</th>\n",
       "      <th>days_exposition</th>\n",
       "    </tr>\n",
       "  </thead>\n",
       "  <tbody>\n",
       "    <tr>\n",
       "      <th>count</th>\n",
       "      <td>1.559100e+04</td>\n",
       "      <td>15591.000000</td>\n",
       "      <td>15591.000000</td>\n",
       "      <td>15591.000000</td>\n",
       "      <td>15591.000000</td>\n",
       "      <td>15591.000000</td>\n",
       "      <td>15591.000000</td>\n",
       "      <td>15591.000000</td>\n",
       "      <td>15591.000000</td>\n",
       "      <td>15591.000000</td>\n",
       "    </tr>\n",
       "    <tr>\n",
       "      <th>mean</th>\n",
       "      <td>8.034843e+06</td>\n",
       "      <td>64.650808</td>\n",
       "      <td>2.171766</td>\n",
       "      <td>2.766604</td>\n",
       "      <td>11.399654</td>\n",
       "      <td>36.946452</td>\n",
       "      <td>6.224681</td>\n",
       "      <td>12.532397</td>\n",
       "      <td>11588.493939</td>\n",
       "      <td>171.294016</td>\n",
       "    </tr>\n",
       "    <tr>\n",
       "      <th>std</th>\n",
       "      <td>1.299270e+07</td>\n",
       "      <td>40.230594</td>\n",
       "      <td>1.147103</td>\n",
       "      <td>1.045077</td>\n",
       "      <td>6.373357</td>\n",
       "      <td>24.973365</td>\n",
       "      <td>4.887168</td>\n",
       "      <td>10.167745</td>\n",
       "      <td>4832.354845</td>\n",
       "      <td>211.557615</td>\n",
       "    </tr>\n",
       "    <tr>\n",
       "      <th>min</th>\n",
       "      <td>1.219000e+04</td>\n",
       "      <td>12.000000</td>\n",
       "      <td>0.000000</td>\n",
       "      <td>1.000000</td>\n",
       "      <td>1.000000</td>\n",
       "      <td>2.000000</td>\n",
       "      <td>1.000000</td>\n",
       "      <td>0.000000</td>\n",
       "      <td>181.000000</td>\n",
       "      <td>1.000000</td>\n",
       "    </tr>\n",
       "    <tr>\n",
       "      <th>25%</th>\n",
       "      <td>4.200000e+06</td>\n",
       "      <td>42.000000</td>\n",
       "      <td>1.000000</td>\n",
       "      <td>2.600000</td>\n",
       "      <td>5.000000</td>\n",
       "      <td>20.000000</td>\n",
       "      <td>3.000000</td>\n",
       "      <td>7.500000</td>\n",
       "      <td>8322.000000</td>\n",
       "      <td>47.000000</td>\n",
       "    </tr>\n",
       "    <tr>\n",
       "      <th>50%</th>\n",
       "      <td>5.500000e+06</td>\n",
       "      <td>55.000000</td>\n",
       "      <td>2.000000</td>\n",
       "      <td>2.700000</td>\n",
       "      <td>9.000000</td>\n",
       "      <td>31.040000</td>\n",
       "      <td>5.000000</td>\n",
       "      <td>10.000000</td>\n",
       "      <td>12242.000000</td>\n",
       "      <td>95.000000</td>\n",
       "    </tr>\n",
       "    <tr>\n",
       "      <th>75%</th>\n",
       "      <td>8.100000e+06</td>\n",
       "      <td>74.500000</td>\n",
       "      <td>3.000000</td>\n",
       "      <td>2.750000</td>\n",
       "      <td>16.000000</td>\n",
       "      <td>44.000000</td>\n",
       "      <td>8.000000</td>\n",
       "      <td>13.900000</td>\n",
       "      <td>14938.500000</td>\n",
       "      <td>200.000000</td>\n",
       "    </tr>\n",
       "    <tr>\n",
       "      <th>max</th>\n",
       "      <td>7.630000e+08</td>\n",
       "      <td>900.000000</td>\n",
       "      <td>19.000000</td>\n",
       "      <td>100.000000</td>\n",
       "      <td>52.000000</td>\n",
       "      <td>409.700000</td>\n",
       "      <td>33.000000</td>\n",
       "      <td>234.829828</td>\n",
       "      <td>29493.000000</td>\n",
       "      <td>1572.000000</td>\n",
       "    </tr>\n",
       "  </tbody>\n",
       "</table>\n",
       "</div>"
      ],
      "text/plain": [
       "         last_price    total_area         rooms  ceiling_height  floors_total  \\\n",
       "count  1.559100e+04  15591.000000  15591.000000    15591.000000  15591.000000   \n",
       "mean   8.034843e+06     64.650808      2.171766        2.766604     11.399654   \n",
       "std    1.299270e+07     40.230594      1.147103        1.045077      6.373357   \n",
       "min    1.219000e+04     12.000000      0.000000        1.000000      1.000000   \n",
       "25%    4.200000e+06     42.000000      1.000000        2.600000      5.000000   \n",
       "50%    5.500000e+06     55.000000      2.000000        2.700000      9.000000   \n",
       "75%    8.100000e+06     74.500000      3.000000        2.750000     16.000000   \n",
       "max    7.630000e+08    900.000000     19.000000      100.000000     52.000000   \n",
       "\n",
       "        living_area         floor  kitchen_area  cityCenters_nearest  \\\n",
       "count  15591.000000  15591.000000  15591.000000         15591.000000   \n",
       "mean      36.946452      6.224681     12.532397         11588.493939   \n",
       "std       24.973365      4.887168     10.167745          4832.354845   \n",
       "min        2.000000      1.000000      0.000000           181.000000   \n",
       "25%       20.000000      3.000000      7.500000          8322.000000   \n",
       "50%       31.040000      5.000000     10.000000         12242.000000   \n",
       "75%       44.000000      8.000000     13.900000         14938.500000   \n",
       "max      409.700000     33.000000    234.829828         29493.000000   \n",
       "\n",
       "       days_exposition  \n",
       "count     15591.000000  \n",
       "mean        171.294016  \n",
       "std         211.557615  \n",
       "min           1.000000  \n",
       "25%          47.000000  \n",
       "50%          95.000000  \n",
       "75%         200.000000  \n",
       "max        1572.000000  "
      ]
     },
     "execution_count": 73,
     "metadata": {},
     "output_type": "execute_result"
    }
   ],
   "source": [
    "df.describe()"
   ]
  },
  {
   "cell_type": "code",
   "execution_count": 74,
   "metadata": {},
   "outputs": [
    {
     "data": {
      "text/plain": [
       "<matplotlib.axes._subplots.AxesSubplot at 0x1a61eedb610>"
      ]
     },
     "execution_count": 74,
     "metadata": {},
     "output_type": "execute_result"
    },
    {
     "data": {
      "image/png": "[encoded data removed]",
      "text/plain": [
       "<Figure size 432x288 with 2 Axes>"
      ]
     },
     "metadata": {
      "needs_background": "light"
     },
     "output_type": "display_data"
    }
   ],
   "source": [
    "cols = df.columns[:30] # первые 30 колонок\n",
    "# определяем цвета \n",
    "# желтый - не пропущенные данные, синий - пропущенные данные\n",
    "colours = ['#000099', '#ffff00'] \n",
    "sns.heatmap(df[cols].isnull(), cmap=sns.color_palette(colours))"
   ]
  },
  {
   "cell_type": "markdown",
   "metadata": {},
   "source": [
    "Шаг 2. Обработка данных.\n",
    "1. Проверьте тип данных, при необходимости замените его на нужный.\n",
    "2. Постройте гистограммы и график box-plot для каждого из признаков.\n",
    "3. Удалите из выборки объявления, содержащие выбросы в каждом из признаков."
   ]
  },
  {
   "cell_type": "code",
   "execution_count": 75,
   "metadata": {},
   "outputs": [
    {
     "data": {
      "text/plain": [
       "<matplotlib.axes._subplots.AxesSubplot at 0x1a61f832670>"
      ]
     },
     "execution_count": 75,
     "metadata": {},
     "output_type": "execute_result"
    },
    {
     "data": {
      "image/png": "[encoded data removed]",
      "text/plain": [
       "<Figure size 432x288 with 1 Axes>"
      ]
     },
     "metadata": {
      "needs_background": "light"
     },
     "output_type": "display_data"
    }
   ],
   "source": [
    "df.last_price.plot(kind='box',\n",
    "                          title=' график box-plot для last_price')"
   ]
  },
  {
   "cell_type": "code",
   "execution_count": 76,
   "metadata": {},
   "outputs": [
    {
     "data": {
      "text/plain": [
       "count    1.421600e+04\n",
       "mean     5.950516e+06\n",
       "std      2.487180e+06\n",
       "min      1.219000e+04\n",
       "25%      4.100000e+06\n",
       "50%      5.250000e+06\n",
       "75%      7.190000e+06\n",
       "max      1.395000e+07\n",
       "Name: last_price, dtype: float64"
      ]
     },
     "execution_count": 76,
     "metadata": {},
     "output_type": "execute_result"
    }
   ],
   "source": [
    "a = max([0,df['last_price'].describe()['25%'] - 1.5 * (df['last_price'].describe()['75%'] -\n",
    "df['last_price'].describe()['25%'])])\n",
    "b = min([df['last_price'].describe()['max'],df['last_price'].describe()['75%'] + 1.5 *\n",
    "(df['last_price'].describe()['75%'] - df['last_price'].describe()['25%'])])\n",
    "\n",
    "\n",
    "df = df.query('@a <= last_price <= @b')\n",
    "df.last_price.describe()\n",
    "\n",
    "\n"
   ]
  },
  {
   "cell_type": "code",
   "execution_count": 77,
   "metadata": {},
   "outputs": [
    {
     "data": {
      "text/plain": [
       "<matplotlib.axes._subplots.AxesSubplot at 0x1a61f8852b0>"
      ]
     },
     "execution_count": 77,
     "metadata": {},
     "output_type": "execute_result"
    },
    {
     "data": {
      "image/png": "[encoded data removed]",
      "text/plain": [
       "<Figure size 432x288 with 1 Axes>"
      ]
     },
     "metadata": {
      "needs_background": "light"
     },
     "output_type": "display_data"
    }
   ],
   "source": [
    "df.last_price.plot(kind='hist',\n",
    "                          title=' Гистограмма для last_price')"
   ]
  },
  {
   "cell_type": "code",
   "execution_count": 78,
   "metadata": {},
   "outputs": [
    {
     "data": {
      "text/plain": [
       "<matplotlib.axes._subplots.AxesSubplot at 0x1a61fbc93d0>"
      ]
     },
     "execution_count": 78,
     "metadata": {},
     "output_type": "execute_result"
    },
    {
     "data": {
      "image/png": "[encoded data removed]",
      "text/plain": [
       "<Figure size 432x288 with 1 Axes>"
      ]
     },
     "metadata": {
      "needs_background": "light"
     },
     "output_type": "display_data"
    }
   ],
   "source": [
    "df.total_area.plot(kind='box',\n",
    "                          title=' график box-plot для total_area')"
   ]
  },
  {
   "cell_type": "code",
   "execution_count": 79,
   "metadata": {},
   "outputs": [
    {
     "data": {
      "text/plain": [
       "<matplotlib.axes._subplots.AxesSubplot at 0x1a61fc0ec10>"
      ]
     },
     "execution_count": 79,
     "metadata": {},
     "output_type": "execute_result"
    },
    {
     "data": {
      "image/png": "[encoded data removed]",
      "text/plain": [
       "<Figure size 432x288 with 1 Axes>"
      ]
     },
     "metadata": {
      "needs_background": "light"
     },
     "output_type": "display_data"
    }
   ],
   "source": [
    "df.total_area.plot(kind='hist',\n",
    "                          title=' Гистограмма для total_area')"
   ]
  },
  {
   "cell_type": "code",
   "execution_count": 80,
   "metadata": {},
   "outputs": [
    {
     "data": {
      "text/plain": [
       "count    13837.000000\n",
       "mean        54.671015\n",
       "std         18.586510\n",
       "min         12.000000\n",
       "25%         40.120000\n",
       "50%         51.000000\n",
       "75%         66.000000\n",
       "max        108.600000\n",
       "Name: total_area, dtype: float64"
      ]
     },
     "execution_count": 80,
     "metadata": {},
     "output_type": "execute_result"
    }
   ],
   "source": [
    "a = max([0,df['total_area'].describe()['25%'] - 1.5 * (df['total_area'].describe()['75%'] -\n",
    "df['total_area'].describe()['25%'])])\n",
    "b = min([df['total_area'].describe()['max'],df['total_area'].describe()['75%'] + 1.5 *\n",
    "(df['total_area'].describe()['75%'] - df['total_area'].describe()['25%'])])\n",
    "\n",
    "\n",
    "df = df.query('@a <= total_area <= @b')\n",
    "df.total_area.describe()"
   ]
  },
  {
   "cell_type": "code",
   "execution_count": 81,
   "metadata": {},
   "outputs": [
    {
     "data": {
      "text/plain": [
       "<matplotlib.axes._subplots.AxesSubplot at 0x1a61fc7d940>"
      ]
     },
     "execution_count": 81,
     "metadata": {},
     "output_type": "execute_result"
    },
    {
     "data": {
      "image/png": "[encoded data removed]",
      "text/plain": [
       "<Figure size 432x288 with 1 Axes>"
      ]
     },
     "metadata": {
      "needs_background": "light"
     },
     "output_type": "display_data"
    }
   ],
   "source": [
    "df.rooms.plot(kind='box',\n",
    "                          title=' график box-plot для rooms')"
   ]
  },
  {
   "cell_type": "code",
   "execution_count": 82,
   "metadata": {},
   "outputs": [
    {
     "data": {
      "text/plain": [
       "<matplotlib.axes._subplots.AxesSubplot at 0x1a61f820460>"
      ]
     },
     "execution_count": 82,
     "metadata": {},
     "output_type": "execute_result"
    },
    {
     "data": {
      "image/png": "[encoded data removed]",
      "text/plain": [
       "<Figure size 432x288 with 1 Axes>"
      ]
     },
     "metadata": {
      "needs_background": "light"
     },
     "output_type": "display_data"
    }
   ],
   "source": [
    "df.rooms.plot(kind='hist',\n",
    "                          title=' Гистограмма для rooms')"
   ]
  },
  {
   "cell_type": "code",
   "execution_count": 84,
   "metadata": {},
   "outputs": [
    {
     "data": {
      "text/plain": [
       "count    13836.000000\n",
       "mean         1.967042\n",
       "std          0.900828\n",
       "min          0.000000\n",
       "25%          1.000000\n",
       "50%          2.000000\n",
       "75%          3.000000\n",
       "max          6.000000\n",
       "Name: rooms, dtype: float64"
      ]
     },
     "execution_count": 84,
     "metadata": {},
     "output_type": "execute_result"
    }
   ],
   "source": [
    "a = max([0,df['rooms'].describe()['25%'] - 1.5 * (df['rooms'].describe()['75%'] -\n",
    "df['rooms'].describe()['25%'])])\n",
    "b = min([df['rooms'].describe()['max'],df['rooms'].describe()['75%'] + 1.5 *\n",
    "(df['rooms'].describe()['75%'] - df['rooms'].describe()['25%'])])\n",
    "\n",
    "\n",
    "df = df.query('@a <= rooms <= @b')\n",
    "df.rooms.describe()"
   ]
  },
  {
   "cell_type": "code",
   "execution_count": 85,
   "metadata": {},
   "outputs": [
    {
     "data": {
      "text/plain": [
       "<matplotlib.axes._subplots.AxesSubplot at 0x1a620235af0>"
      ]
     },
     "execution_count": 85,
     "metadata": {},
     "output_type": "execute_result"
    },
    {
     "data": {
      "image/png": "[encoded data removed]",
      "text/plain": [
       "<Figure size 432x288 with 1 Axes>"
      ]
     },
     "metadata": {
      "needs_background": "light"
     },
     "output_type": "display_data"
    }
   ],
   "source": [
    "df.ceiling_height.plot(kind='box',\n",
    "                          title=' график box-plot для ceiling_height')"
   ]
  },
  {
   "cell_type": "code",
   "execution_count": 86,
   "metadata": {},
   "outputs": [
    {
     "data": {
      "text/plain": [
       "<matplotlib.axes._subplots.AxesSubplot at 0x1a620291820>"
      ]
     },
     "execution_count": 86,
     "metadata": {},
     "output_type": "execute_result"
    },
    {
     "data": {
      "image/png": "[encoded data removed]",
      "text/plain": [
       "<Figure size 432x288 with 1 Axes>"
      ]
     },
     "metadata": {
      "needs_background": "light"
     },
     "output_type": "display_data"
    }
   ],
   "source": [
    "df.ceiling_height.plot(kind='hist',\n",
    "                          title=' Гистограмма для ceiling_height')"
   ]
  },
  {
   "cell_type": "code",
   "execution_count": 87,
   "metadata": {},
   "outputs": [
    {
     "data": {
      "text/plain": [
       "count    12198.000000\n",
       "mean         2.652464\n",
       "std          0.091512\n",
       "min          2.450000\n",
       "25%          2.570000\n",
       "50%          2.700000\n",
       "75%          2.700000\n",
       "max          2.850000\n",
       "Name: ceiling_height, dtype: float64"
      ]
     },
     "execution_count": 87,
     "metadata": {},
     "output_type": "execute_result"
    }
   ],
   "source": [
    "a = max([0,df['ceiling_height'].describe()['25%'] - 1.5 * (df['ceiling_height'].describe()['75%'] -\n",
    "df['ceiling_height'].describe()['25%'])])\n",
    "b = min([df['ceiling_height'].describe()['max'],df['ceiling_height'].describe()['75%'] + 1.5 *\n",
    "(df['ceiling_height'].describe()['75%'] - df['ceiling_height'].describe()['25%'])])\n",
    "\n",
    "\n",
    "df = df.query('@a <= ceiling_height <= @b')\n",
    "df.ceiling_height.describe()"
   ]
  },
  {
   "cell_type": "code",
   "execution_count": 88,
   "metadata": {},
   "outputs": [
    {
     "data": {
      "text/plain": [
       "<matplotlib.axes._subplots.AxesSubplot at 0x1a6202fd6d0>"
      ]
     },
     "execution_count": 88,
     "metadata": {},
     "output_type": "execute_result"
    },
    {
     "data": {
      "image/png": "[encoded data removed]",
      "text/plain": [
       "<Figure size 432x288 with 1 Axes>"
      ]
     },
     "metadata": {
      "needs_background": "light"
     },
     "output_type": "display_data"
    }
   ],
   "source": [
    "df.living_area.plot(kind='box',\n",
    "                          title=' график box-plot для living_area')"
   ]
  },
  {
   "cell_type": "code",
   "execution_count": 89,
   "metadata": {},
   "outputs": [
    {
     "data": {
      "text/plain": [
       "count    12159.000000\n",
       "mean        29.862036\n",
       "std         12.007895\n",
       "min          3.000000\n",
       "25%         18.500000\n",
       "50%         29.000000\n",
       "75%         38.714845\n",
       "max         69.500000\n",
       "Name: living_area, dtype: float64"
      ]
     },
     "execution_count": 89,
     "metadata": {},
     "output_type": "execute_result"
    }
   ],
   "source": [
    "a = max([0,df['living_area'].describe()['25%'] - 1.5 * (df['living_area'].describe()['75%'] -\n",
    "df['living_area'].describe()['25%'])])\n",
    "b = min([df['living_area'].describe()['max'],df['living_area'].describe()['75%'] + 1.5 *\n",
    "(df['living_area'].describe()['75%'] - df['living_area'].describe()['25%'])])\n",
    "\n",
    "\n",
    "df = df.query('@a <= living_area <= @b')\n",
    "df.living_area.describe()"
   ]
  },
  {
   "cell_type": "code",
   "execution_count": 90,
   "metadata": {},
   "outputs": [
    {
     "data": {
      "text/plain": [
       "<matplotlib.axes._subplots.AxesSubplot at 0x1a61f801d00>"
      ]
     },
     "execution_count": 90,
     "metadata": {},
     "output_type": "execute_result"
    },
    {
     "data": {
      "image/png": "[encoded data removed]",
      "text/plain": [
       "<Figure size 432x288 with 1 Axes>"
      ]
     },
     "metadata": {
      "needs_background": "light"
     },
     "output_type": "display_data"
    }
   ],
   "source": [
    "df.living_area.plot(kind='hist',\n",
    "                          title=' Гистограмма для living_area')"
   ]
  },
  {
   "cell_type": "code",
   "execution_count": 20,
   "metadata": {},
   "outputs": [
    {
     "data": {
      "text/plain": [
       "<matplotlib.axes._subplots.AxesSubplot at 0x1a61cfe7d90>"
      ]
     },
     "execution_count": 20,
     "metadata": {},
     "output_type": "execute_result"
    },
    {
     "data": {
      "image/png": "[encoded data removed]",
      "text/plain": [
       "<Figure size 432x288 with 1 Axes>"
      ]
     },
     "metadata": {
      "needs_background": "light"
     },
     "output_type": "display_data"
    }
   ],
   "source": [
    "df.kitchen_area.plot(kind='box',\n",
    "                          title=' график box-plot для kitchen_area')"
   ]
  },
  {
   "cell_type": "code",
   "execution_count": 91,
   "metadata": {},
   "outputs": [
    {
     "data": {
      "text/plain": [
       "count    11311.000000\n",
       "mean         9.471613\n",
       "std          3.176102\n",
       "min          0.000000\n",
       "25%          7.000000\n",
       "50%          9.000000\n",
       "75%         11.000000\n",
       "max         19.500000\n",
       "Name: kitchen_area, dtype: float64"
      ]
     },
     "execution_count": 91,
     "metadata": {},
     "output_type": "execute_result"
    }
   ],
   "source": [
    "a = max([0,df['kitchen_area'].describe()['25%'] - 1.5 * (df['kitchen_area'].describe()['75%'] -\n",
    "df['kitchen_area'].describe()['25%'])])\n",
    "b = min([df['kitchen_area'].describe()['max'],df['kitchen_area'].describe()['75%'] + 1.5 *\n",
    "(df['kitchen_area'].describe()['75%'] - df['kitchen_area'].describe()['25%'])])\n",
    "\n",
    "\n",
    "df = df.query('@a <= kitchen_area <= @b')\n",
    "df.kitchen_area.describe()"
   ]
  },
  {
   "cell_type": "code",
   "execution_count": 92,
   "metadata": {},
   "outputs": [
    {
     "data": {
      "text/plain": [
       "<matplotlib.axes._subplots.AxesSubplot at 0x1a61e1956a0>"
      ]
     },
     "execution_count": 92,
     "metadata": {},
     "output_type": "execute_result"
    },
    {
     "data": {
      "image/png": "[encoded data removed]",
      "text/plain": [
       "<Figure size 432x288 with 1 Axes>"
      ]
     },
     "metadata": {
      "needs_background": "light"
     },
     "output_type": "display_data"
    }
   ],
   "source": [
    "df.kitchen_area.plot(kind='hist',\n",
    "                          title=' Гистограмма для kitchen_area')"
   ]
  },
  {
   "cell_type": "code",
   "execution_count": 22,
   "metadata": {},
   "outputs": [
    {
     "data": {
      "text/plain": [
       "<matplotlib.axes._subplots.AxesSubplot at 0x1a61d0edb50>"
      ]
     },
     "execution_count": 22,
     "metadata": {},
     "output_type": "execute_result"
    },
    {
     "data": {
      "image/png": "[encoded data removed]",
      "text/plain": [
       "<Figure size 432x288 with 1 Axes>"
      ]
     },
     "metadata": {
      "needs_background": "light"
     },
     "output_type": "display_data"
    }
   ],
   "source": [
    "df.cityCenters_nearest.plot(kind='box',\n",
    "                          title=' график box-plot для cityCenters_nearest')"
   ]
  },
  {
   "cell_type": "code",
   "execution_count": 93,
   "metadata": {},
   "outputs": [
    {
     "data": {
      "text/plain": [
       "count    10782.000000\n",
       "mean     12976.767947\n",
       "std       3438.977370\n",
       "min       4165.000000\n",
       "25%      11093.000000\n",
       "50%      13212.500000\n",
       "75%      15358.500000\n",
       "max      22175.000000\n",
       "Name: cityCenters_nearest, dtype: float64"
      ]
     },
     "execution_count": 93,
     "metadata": {},
     "output_type": "execute_result"
    }
   ],
   "source": [
    "a = max([0,df['cityCenters_nearest'].describe()['25%'] - 1.5 * (df['cityCenters_nearest'].describe()['75%'] -\n",
    "df['cityCenters_nearest'].describe()['25%'])])\n",
    "b = min([df['cityCenters_nearest'].describe()['max'],df['cityCenters_nearest'].describe()['75%'] + 1.5 *\n",
    "(df['cityCenters_nearest'].describe()['75%'] - df['cityCenters_nearest'].describe()['25%'])])\n",
    "\n",
    "\n",
    "df = df.query('@a <= cityCenters_nearest <= @b')\n",
    "df.cityCenters_nearest.describe()"
   ]
  },
  {
   "cell_type": "code",
   "execution_count": 94,
   "metadata": {},
   "outputs": [
    {
     "data": {
      "text/plain": [
       "<matplotlib.axes._subplots.AxesSubplot at 0x1a6203e77f0>"
      ]
     },
     "execution_count": 94,
     "metadata": {},
     "output_type": "execute_result"
    },
    {
     "data": {
      "image/png": "[encoded data removed]",
      "text/plain": [
       "<Figure size 432x288 with 1 Axes>"
      ]
     },
     "metadata": {
      "needs_background": "light"
     },
     "output_type": "display_data"
    }
   ],
   "source": [
    "df.cityCenters_nearest.plot(kind='hist',\n",
    "                          title=' Гистограмма для cityCenters_nearest')"
   ]
  },
  {
   "cell_type": "code",
   "execution_count": 24,
   "metadata": {},
   "outputs": [
    {
     "data": {
      "text/plain": [
       "<matplotlib.axes._subplots.AxesSubplot at 0x1a61e1953a0>"
      ]
     },
     "execution_count": 24,
     "metadata": {},
     "output_type": "execute_result"
    },
    {
     "data": {
      "image/png": "[encoded data removed]",
      "text/plain": [
       "<Figure size 432x288 with 1 Axes>"
      ]
     },
     "metadata": {
      "needs_background": "light"
     },
     "output_type": "display_data"
    }
   ],
   "source": [
    "df.days_exposition.plot(kind='box',\n",
    "                          title=' график box-plot для days_exposition')"
   ]
  },
  {
   "cell_type": "code",
   "execution_count": 95,
   "metadata": {},
   "outputs": [
    {
     "data": {
      "text/plain": [
       "count    9695.000000\n",
       "mean      102.432285\n",
       "std        88.092048\n",
       "min         1.000000\n",
       "25%        37.000000\n",
       "50%        88.000000\n",
       "75%       135.000000\n",
       "max       392.000000\n",
       "Name: days_exposition, dtype: float64"
      ]
     },
     "execution_count": 95,
     "metadata": {},
     "output_type": "execute_result"
    }
   ],
   "source": [
    "a = max([0,df['days_exposition'].describe()['25%'] - 1.5 * (df['days_exposition'].describe()['75%'] -\n",
    "df['days_exposition'].describe()['25%'])])\n",
    "b = min([df['days_exposition'].describe()['max'],df['days_exposition'].describe()['75%'] + 1.5 *\n",
    "(df['days_exposition'].describe()['75%'] - df['days_exposition'].describe()['25%'])])\n",
    "\n",
    "\n",
    "df = df.query('@a <= days_exposition <= @b')\n",
    "df.days_exposition.describe()"
   ]
  },
  {
   "cell_type": "code",
   "execution_count": 96,
   "metadata": {},
   "outputs": [
    {
     "data": {
      "text/plain": [
       "<matplotlib.axes._subplots.AxesSubplot at 0x1a62046e1c0>"
      ]
     },
     "execution_count": 96,
     "metadata": {},
     "output_type": "execute_result"
    },
    {
     "data": {
      "image/png": "[encoded data removed]",
      "text/plain": [
       "<Figure size 432x288 with 1 Axes>"
      ]
     },
     "metadata": {
      "needs_background": "light"
     },
     "output_type": "display_data"
    }
   ],
   "source": [
    "df.days_exposition.plot(kind='hist',\n",
    "                          title=' Гистограмма для days_exposition')"
   ]
  },
  {
   "cell_type": "code",
   "execution_count": 26,
   "metadata": {},
   "outputs": [
    {
     "data": {
      "text/plain": [
       "<matplotlib.axes._subplots.AxesSubplot at 0x1a61e246d60>"
      ]
     },
     "execution_count": 26,
     "metadata": {},
     "output_type": "execute_result"
    },
    {
     "data": {
      "image/png": "[encoded data removed]",
      "text/plain": [
       "<Figure size 432x288 with 1 Axes>"
      ]
     },
     "metadata": {
      "needs_background": "light"
     },
     "output_type": "display_data"
    }
   ],
   "source": [
    "df.floors_total.plot(kind='box',\n",
    "                          title=' график box-plot для floors_total')"
   ]
  },
  {
   "cell_type": "code",
   "execution_count": 97,
   "metadata": {},
   "outputs": [
    {
     "data": {
      "text/plain": [
       "count    9648.000000\n",
       "mean       12.375933\n",
       "std         6.105577\n",
       "min         1.000000\n",
       "25%         9.000000\n",
       "50%        10.000000\n",
       "75%        16.000000\n",
       "max        26.000000\n",
       "Name: floors_total, dtype: float64"
      ]
     },
     "execution_count": 97,
     "metadata": {},
     "output_type": "execute_result"
    }
   ],
   "source": [
    "a = max([0,df['floors_total'].describe()['25%'] - 1.5 * (df['floors_total'].describe()['75%'] -\n",
    "df['floors_total'].describe()['25%'])])\n",
    "b = min([df['floors_total'].describe()['max'],df['floors_total'].describe()['75%'] + 1.5 *\n",
    "(df['floors_total'].describe()['75%'] - df['floors_total'].describe()['25%'])])\n",
    "\n",
    "\n",
    "df = df.query('@a <= floors_total <= @b')\n",
    "df.floors_total.describe()"
   ]
  },
  {
   "cell_type": "code",
   "execution_count": 98,
   "metadata": {},
   "outputs": [
    {
     "data": {
      "text/plain": [
       "<matplotlib.axes._subplots.AxesSubplot at 0x1a6204e4f10>"
      ]
     },
     "execution_count": 98,
     "metadata": {},
     "output_type": "execute_result"
    },
    {
     "data": {
      "image/png": "[encoded data removed]",
      "text/plain": [
       "<Figure size 432x288 with 1 Axes>"
      ]
     },
     "metadata": {
      "needs_background": "light"
     },
     "output_type": "display_data"
    }
   ],
   "source": [
    "df.floors_total.plot(kind='hist',\n",
    "                          title=' Гистограмма для floors_total')"
   ]
  },
  {
   "cell_type": "code",
   "execution_count": 28,
   "metadata": {},
   "outputs": [
    {
     "data": {
      "text/plain": [
       "<matplotlib.axes._subplots.AxesSubplot at 0x1a61e31b460>"
      ]
     },
     "execution_count": 28,
     "metadata": {},
     "output_type": "execute_result"
    },
    {
     "data": {
      "image/png": "[encoded data removed]",
      "text/plain": [
       "<Figure size 432x288 with 1 Axes>"
      ]
     },
     "metadata": {
      "needs_background": "light"
     },
     "output_type": "display_data"
    }
   ],
   "source": [
    "df.living_area.plot(kind='box',\n",
    "                          title=' график box-plot для living_area')"
   ]
  },
  {
   "cell_type": "code",
   "execution_count": 99,
   "metadata": {},
   "outputs": [
    {
     "data": {
      "text/plain": [
       "count    9637.000000\n",
       "mean       29.244057\n",
       "std        11.617589\n",
       "min         3.000000\n",
       "25%        18.200000\n",
       "50%        28.400000\n",
       "75%        37.800000\n",
       "max        67.000000\n",
       "Name: living_area, dtype: float64"
      ]
     },
     "execution_count": 99,
     "metadata": {},
     "output_type": "execute_result"
    }
   ],
   "source": [
    "a = max([0,df['living_area'].describe()['25%'] - 1.5 * (df['living_area'].describe()['75%'] -\n",
    "df['living_area'].describe()['25%'])])\n",
    "b = min([df['living_area'].describe()['max'],df['living_area'].describe()['75%'] + 1.5 *\n",
    "(df['living_area'].describe()['75%'] - df['living_area'].describe()['25%'])])\n",
    "\n",
    "\n",
    "df = df.query('@a <= living_area <= @b')\n",
    "df.living_area.describe()"
   ]
  },
  {
   "cell_type": "code",
   "execution_count": 100,
   "metadata": {},
   "outputs": [
    {
     "data": {
      "text/plain": [
       "<matplotlib.axes._subplots.AxesSubplot at 0x1a62050bb50>"
      ]
     },
     "execution_count": 100,
     "metadata": {},
     "output_type": "execute_result"
    },
    {
     "data": {
      "image/png": "[encoded data removed]",
      "text/plain": [
       "<Figure size 432x288 with 1 Axes>"
      ]
     },
     "metadata": {
      "needs_background": "light"
     },
     "output_type": "display_data"
    }
   ],
   "source": [
    "df.living_area.plot(kind='hist',\n",
    "                          title=' Гистограмма для living_area')"
   ]
  },
  {
   "cell_type": "code",
   "execution_count": null,
   "metadata": {},
   "outputs": [],
   "source": []
  },
  {
   "cell_type": "markdown",
   "metadata": {},
   "source": [
    "Шаг 3. Посчитайте и добавьте в таблицу:\n",
    "1. цену квадратного метра;\n",
    "2. соотношение жилой и общей площади, а также отношение площади кухни к\n",
    "общей."
   ]
  },
  {
   "cell_type": "code",
   "execution_count": 106,
   "metadata": {},
   "outputs": [
    {
     "data": {
      "text/html": [
       "<div>\n",
       "<style scoped>\n",
       "    .dataframe tbody tr th:only-of-type {\n",
       "        vertical-align: middle;\n",
       "    }\n",
       "\n",
       "    .dataframe tbody tr th {\n",
       "        vertical-align: top;\n",
       "    }\n",
       "\n",
       "    .dataframe thead th {\n",
       "        text-align: right;\n",
       "    }\n",
       "</style>\n",
       "<table border=\"1\" class=\"dataframe\">\n",
       "  <thead>\n",
       "    <tr style=\"text-align: right;\">\n",
       "      <th></th>\n",
       "      <th>last_price</th>\n",
       "      <th>total_area</th>\n",
       "      <th>rooms</th>\n",
       "      <th>ceiling_height</th>\n",
       "      <th>floors_total</th>\n",
       "      <th>living_area</th>\n",
       "      <th>floor</th>\n",
       "      <th>kitchen_area</th>\n",
       "      <th>cityCenters_nearest</th>\n",
       "      <th>days_exposition</th>\n",
       "      <th>m2sale</th>\n",
       "    </tr>\n",
       "  </thead>\n",
       "  <tbody>\n",
       "    <tr>\n",
       "      <th>7</th>\n",
       "      <td>7915000</td>\n",
       "      <td>71.6</td>\n",
       "      <td>2</td>\n",
       "      <td>2.70</td>\n",
       "      <td>24</td>\n",
       "      <td>37.972369</td>\n",
       "      <td>22</td>\n",
       "      <td>18.9</td>\n",
       "      <td>11634.0</td>\n",
       "      <td>95</td>\n",
       "      <td>110544.692737</td>\n",
       "    </tr>\n",
       "    <tr>\n",
       "      <th>9</th>\n",
       "      <td>5400000</td>\n",
       "      <td>61.0</td>\n",
       "      <td>3</td>\n",
       "      <td>2.50</td>\n",
       "      <td>9</td>\n",
       "      <td>43.600000</td>\n",
       "      <td>7</td>\n",
       "      <td>6.5</td>\n",
       "      <td>15008.0</td>\n",
       "      <td>289</td>\n",
       "      <td>88524.590164</td>\n",
       "    </tr>\n",
       "    <tr>\n",
       "      <th>10</th>\n",
       "      <td>5050000</td>\n",
       "      <td>39.6</td>\n",
       "      <td>1</td>\n",
       "      <td>2.67</td>\n",
       "      <td>12</td>\n",
       "      <td>20.300000</td>\n",
       "      <td>3</td>\n",
       "      <td>8.5</td>\n",
       "      <td>13878.0</td>\n",
       "      <td>137</td>\n",
       "      <td>127525.252525</td>\n",
       "    </tr>\n",
       "    <tr>\n",
       "      <th>15</th>\n",
       "      <td>4650000</td>\n",
       "      <td>39.0</td>\n",
       "      <td>1</td>\n",
       "      <td>2.70</td>\n",
       "      <td>14</td>\n",
       "      <td>20.500000</td>\n",
       "      <td>5</td>\n",
       "      <td>7.6</td>\n",
       "      <td>14259.0</td>\n",
       "      <td>19</td>\n",
       "      <td>119230.769231</td>\n",
       "    </tr>\n",
       "    <tr>\n",
       "      <th>18</th>\n",
       "      <td>3250000</td>\n",
       "      <td>31.0</td>\n",
       "      <td>1</td>\n",
       "      <td>2.50</td>\n",
       "      <td>5</td>\n",
       "      <td>19.400000</td>\n",
       "      <td>2</td>\n",
       "      <td>5.6</td>\n",
       "      <td>10842.0</td>\n",
       "      <td>168</td>\n",
       "      <td>104838.709677</td>\n",
       "    </tr>\n",
       "  </tbody>\n",
       "</table>\n",
       "</div>"
      ],
      "text/plain": [
       "    last_price  total_area  rooms  ceiling_height  floors_total  living_area  \\\n",
       "7      7915000        71.6      2            2.70            24    37.972369   \n",
       "9      5400000        61.0      3            2.50             9    43.600000   \n",
       "10     5050000        39.6      1            2.67            12    20.300000   \n",
       "15     4650000        39.0      1            2.70            14    20.500000   \n",
       "18     3250000        31.0      1            2.50             5    19.400000   \n",
       "\n",
       "    floor  kitchen_area  cityCenters_nearest  days_exposition         m2sale  \n",
       "7      22          18.9              11634.0               95  110544.692737  \n",
       "9       7           6.5              15008.0              289   88524.590164  \n",
       "10      3           8.5              13878.0              137  127525.252525  \n",
       "15      5           7.6              14259.0               19  119230.769231  \n",
       "18      2           5.6              10842.0              168  104838.709677  "
      ]
     },
     "execution_count": 106,
     "metadata": {},
     "output_type": "execute_result"
    }
   ],
   "source": [
    "df['m2sale'] = df['last_price']/df['total_area']\n",
    "df.head()"
   ]
  },
  {
   "cell_type": "code",
   "execution_count": 107,
   "metadata": {},
   "outputs": [
    {
     "data": {
      "text/html": [
       "<div>\n",
       "<style scoped>\n",
       "    .dataframe tbody tr th:only-of-type {\n",
       "        vertical-align: middle;\n",
       "    }\n",
       "\n",
       "    .dataframe tbody tr th {\n",
       "        vertical-align: top;\n",
       "    }\n",
       "\n",
       "    .dataframe thead th {\n",
       "        text-align: right;\n",
       "    }\n",
       "</style>\n",
       "<table border=\"1\" class=\"dataframe\">\n",
       "  <thead>\n",
       "    <tr style=\"text-align: right;\">\n",
       "      <th></th>\n",
       "      <th>last_price</th>\n",
       "      <th>total_area</th>\n",
       "      <th>rooms</th>\n",
       "      <th>ceiling_height</th>\n",
       "      <th>floors_total</th>\n",
       "      <th>living_area</th>\n",
       "      <th>floor</th>\n",
       "      <th>kitchen_area</th>\n",
       "      <th>cityCenters_nearest</th>\n",
       "      <th>days_exposition</th>\n",
       "      <th>m2sale</th>\n",
       "      <th>total_living_area</th>\n",
       "    </tr>\n",
       "  </thead>\n",
       "  <tbody>\n",
       "    <tr>\n",
       "      <th>7</th>\n",
       "      <td>7915000</td>\n",
       "      <td>71.6</td>\n",
       "      <td>2</td>\n",
       "      <td>2.70</td>\n",
       "      <td>24</td>\n",
       "      <td>37.972369</td>\n",
       "      <td>22</td>\n",
       "      <td>18.9</td>\n",
       "      <td>11634.0</td>\n",
       "      <td>95</td>\n",
       "      <td>110544.692737</td>\n",
       "      <td>0.530340</td>\n",
       "    </tr>\n",
       "    <tr>\n",
       "      <th>9</th>\n",
       "      <td>5400000</td>\n",
       "      <td>61.0</td>\n",
       "      <td>3</td>\n",
       "      <td>2.50</td>\n",
       "      <td>9</td>\n",
       "      <td>43.600000</td>\n",
       "      <td>7</td>\n",
       "      <td>6.5</td>\n",
       "      <td>15008.0</td>\n",
       "      <td>289</td>\n",
       "      <td>88524.590164</td>\n",
       "      <td>0.714754</td>\n",
       "    </tr>\n",
       "    <tr>\n",
       "      <th>10</th>\n",
       "      <td>5050000</td>\n",
       "      <td>39.6</td>\n",
       "      <td>1</td>\n",
       "      <td>2.67</td>\n",
       "      <td>12</td>\n",
       "      <td>20.300000</td>\n",
       "      <td>3</td>\n",
       "      <td>8.5</td>\n",
       "      <td>13878.0</td>\n",
       "      <td>137</td>\n",
       "      <td>127525.252525</td>\n",
       "      <td>0.512626</td>\n",
       "    </tr>\n",
       "    <tr>\n",
       "      <th>15</th>\n",
       "      <td>4650000</td>\n",
       "      <td>39.0</td>\n",
       "      <td>1</td>\n",
       "      <td>2.70</td>\n",
       "      <td>14</td>\n",
       "      <td>20.500000</td>\n",
       "      <td>5</td>\n",
       "      <td>7.6</td>\n",
       "      <td>14259.0</td>\n",
       "      <td>19</td>\n",
       "      <td>119230.769231</td>\n",
       "      <td>0.525641</td>\n",
       "    </tr>\n",
       "    <tr>\n",
       "      <th>18</th>\n",
       "      <td>3250000</td>\n",
       "      <td>31.0</td>\n",
       "      <td>1</td>\n",
       "      <td>2.50</td>\n",
       "      <td>5</td>\n",
       "      <td>19.400000</td>\n",
       "      <td>2</td>\n",
       "      <td>5.6</td>\n",
       "      <td>10842.0</td>\n",
       "      <td>168</td>\n",
       "      <td>104838.709677</td>\n",
       "      <td>0.625806</td>\n",
       "    </tr>\n",
       "  </tbody>\n",
       "</table>\n",
       "</div>"
      ],
      "text/plain": [
       "    last_price  total_area  rooms  ceiling_height  floors_total  living_area  \\\n",
       "7      7915000        71.6      2            2.70            24    37.972369   \n",
       "9      5400000        61.0      3            2.50             9    43.600000   \n",
       "10     5050000        39.6      1            2.67            12    20.300000   \n",
       "15     4650000        39.0      1            2.70            14    20.500000   \n",
       "18     3250000        31.0      1            2.50             5    19.400000   \n",
       "\n",
       "    floor  kitchen_area  cityCenters_nearest  days_exposition         m2sale  \\\n",
       "7      22          18.9              11634.0               95  110544.692737   \n",
       "9       7           6.5              15008.0              289   88524.590164   \n",
       "10      3           8.5              13878.0              137  127525.252525   \n",
       "15      5           7.6              14259.0               19  119230.769231   \n",
       "18      2           5.6              10842.0              168  104838.709677   \n",
       "\n",
       "    total_living_area  \n",
       "7            0.530340  \n",
       "9            0.714754  \n",
       "10           0.512626  \n",
       "15           0.525641  \n",
       "18           0.625806  "
      ]
     },
     "execution_count": 107,
     "metadata": {},
     "output_type": "execute_result"
    }
   ],
   "source": [
    "df['total_living_area'] = df['living_area']/df['total_area']\n",
    "df.head()"
   ]
  },
  {
   "cell_type": "code",
   "execution_count": 108,
   "metadata": {},
   "outputs": [
    {
     "data": {
      "text/html": [
       "<div>\n",
       "<style scoped>\n",
       "    .dataframe tbody tr th:only-of-type {\n",
       "        vertical-align: middle;\n",
       "    }\n",
       "\n",
       "    .dataframe tbody tr th {\n",
       "        vertical-align: top;\n",
       "    }\n",
       "\n",
       "    .dataframe thead th {\n",
       "        text-align: right;\n",
       "    }\n",
       "</style>\n",
       "<table border=\"1\" class=\"dataframe\">\n",
       "  <thead>\n",
       "    <tr style=\"text-align: right;\">\n",
       "      <th></th>\n",
       "      <th>last_price</th>\n",
       "      <th>total_area</th>\n",
       "      <th>rooms</th>\n",
       "      <th>ceiling_height</th>\n",
       "      <th>floors_total</th>\n",
       "      <th>living_area</th>\n",
       "      <th>floor</th>\n",
       "      <th>kitchen_area</th>\n",
       "      <th>cityCenters_nearest</th>\n",
       "      <th>days_exposition</th>\n",
       "      <th>m2sale</th>\n",
       "      <th>total_living_area</th>\n",
       "      <th>total_kitcheng_area</th>\n",
       "    </tr>\n",
       "  </thead>\n",
       "  <tbody>\n",
       "    <tr>\n",
       "      <th>7</th>\n",
       "      <td>7915000</td>\n",
       "      <td>71.6</td>\n",
       "      <td>2</td>\n",
       "      <td>2.70</td>\n",
       "      <td>24</td>\n",
       "      <td>37.972369</td>\n",
       "      <td>22</td>\n",
       "      <td>18.9</td>\n",
       "      <td>11634.0</td>\n",
       "      <td>95</td>\n",
       "      <td>110544.692737</td>\n",
       "      <td>0.530340</td>\n",
       "      <td>0.263966</td>\n",
       "    </tr>\n",
       "    <tr>\n",
       "      <th>9</th>\n",
       "      <td>5400000</td>\n",
       "      <td>61.0</td>\n",
       "      <td>3</td>\n",
       "      <td>2.50</td>\n",
       "      <td>9</td>\n",
       "      <td>43.600000</td>\n",
       "      <td>7</td>\n",
       "      <td>6.5</td>\n",
       "      <td>15008.0</td>\n",
       "      <td>289</td>\n",
       "      <td>88524.590164</td>\n",
       "      <td>0.714754</td>\n",
       "      <td>0.106557</td>\n",
       "    </tr>\n",
       "    <tr>\n",
       "      <th>10</th>\n",
       "      <td>5050000</td>\n",
       "      <td>39.6</td>\n",
       "      <td>1</td>\n",
       "      <td>2.67</td>\n",
       "      <td>12</td>\n",
       "      <td>20.300000</td>\n",
       "      <td>3</td>\n",
       "      <td>8.5</td>\n",
       "      <td>13878.0</td>\n",
       "      <td>137</td>\n",
       "      <td>127525.252525</td>\n",
       "      <td>0.512626</td>\n",
       "      <td>0.214646</td>\n",
       "    </tr>\n",
       "    <tr>\n",
       "      <th>15</th>\n",
       "      <td>4650000</td>\n",
       "      <td>39.0</td>\n",
       "      <td>1</td>\n",
       "      <td>2.70</td>\n",
       "      <td>14</td>\n",
       "      <td>20.500000</td>\n",
       "      <td>5</td>\n",
       "      <td>7.6</td>\n",
       "      <td>14259.0</td>\n",
       "      <td>19</td>\n",
       "      <td>119230.769231</td>\n",
       "      <td>0.525641</td>\n",
       "      <td>0.194872</td>\n",
       "    </tr>\n",
       "    <tr>\n",
       "      <th>18</th>\n",
       "      <td>3250000</td>\n",
       "      <td>31.0</td>\n",
       "      <td>1</td>\n",
       "      <td>2.50</td>\n",
       "      <td>5</td>\n",
       "      <td>19.400000</td>\n",
       "      <td>2</td>\n",
       "      <td>5.6</td>\n",
       "      <td>10842.0</td>\n",
       "      <td>168</td>\n",
       "      <td>104838.709677</td>\n",
       "      <td>0.625806</td>\n",
       "      <td>0.180645</td>\n",
       "    </tr>\n",
       "  </tbody>\n",
       "</table>\n",
       "</div>"
      ],
      "text/plain": [
       "    last_price  total_area  rooms  ceiling_height  floors_total  living_area  \\\n",
       "7      7915000        71.6      2            2.70            24    37.972369   \n",
       "9      5400000        61.0      3            2.50             9    43.600000   \n",
       "10     5050000        39.6      1            2.67            12    20.300000   \n",
       "15     4650000        39.0      1            2.70            14    20.500000   \n",
       "18     3250000        31.0      1            2.50             5    19.400000   \n",
       "\n",
       "    floor  kitchen_area  cityCenters_nearest  days_exposition         m2sale  \\\n",
       "7      22          18.9              11634.0               95  110544.692737   \n",
       "9       7           6.5              15008.0              289   88524.590164   \n",
       "10      3           8.5              13878.0              137  127525.252525   \n",
       "15      5           7.6              14259.0               19  119230.769231   \n",
       "18      2           5.6              10842.0              168  104838.709677   \n",
       "\n",
       "    total_living_area  total_kitcheng_area  \n",
       "7            0.530340             0.263966  \n",
       "9            0.714754             0.106557  \n",
       "10           0.512626             0.214646  \n",
       "15           0.525641             0.194872  \n",
       "18           0.625806             0.180645  "
      ]
     },
     "execution_count": 108,
     "metadata": {},
     "output_type": "execute_result"
    }
   ],
   "source": [
    "df['total_kitcheng_area'] = df['kitchen_area']/df['total_area']\n",
    "df.head()"
   ]
  },
  {
   "cell_type": "code",
   "execution_count": null,
   "metadata": {},
   "outputs": [],
   "source": []
  },
  {
   "cell_type": "markdown",
   "metadata": {},
   "source": [
    "Шаг 4. Ответьте на вопросы:\n",
    "1. Опишите, сколько времени обычно занимает продажа. Когда можно считать, что\n",
    "продажи прошли очень быстро, а когда необычно долго?\n",
    "2. Какая высота потолков чаще всего встречается в объявлениях о продаже?\n",
    "3. Какое типичное значение общей площади квартир?\n",
    "4. Какое среднее значение стоимости квартир?\n",
    "5. Влияет ли число комнат на общую площадь квартиры?\n",
    "6. Какие признаки влияют на стоимость квартиры?"
   ]
  },
  {
   "cell_type": "code",
   "execution_count": 109,
   "metadata": {},
   "outputs": [
    {
     "data": {
      "text/plain": [
       "count    9637.000000\n",
       "mean      102.398049\n",
       "std        88.138950\n",
       "min         1.000000\n",
       "25%        37.000000\n",
       "50%        88.000000\n",
       "75%       135.000000\n",
       "max       392.000000\n",
       "Name: days_exposition, dtype: float64"
      ]
     },
     "execution_count": 109,
     "metadata": {},
     "output_type": "execute_result"
    }
   ],
   "source": [
    "df.days_exposition.describe()\n"
   ]
  },
  {
   "cell_type": "code",
   "execution_count": 110,
   "metadata": {},
   "outputs": [
    {
     "data": {
      "text/plain": [
       "<matplotlib.axes._subplots.AxesSubplot at 0x1a6225ecd60>"
      ]
     },
     "execution_count": 110,
     "metadata": {},
     "output_type": "execute_result"
    },
    {
     "data": {
      "image/png": "[encoded data removed]",
      "text/plain": [
       "<Figure size 432x288 with 1 Axes>"
      ]
     },
     "metadata": {
      "needs_background": "light"
     },
     "output_type": "display_data"
    }
   ],
   "source": [
    "df.days_exposition.plot(kind='hist',\n",
    "                          title=' Гистограмма для days_exposition')"
   ]
  },
  {
   "cell_type": "markdown",
   "metadata": {},
   "source": [
    "По нашим статистическим данным и графику мы видим что в основном время продажи в пределах от 1 до 100-120. Для того что бы определить насколько время сделки анамально мы можем сравнить его с средним значение и взять +20 дней. Если время продажи выйдет за эти рамки то оно будет считаться аномальным "
   ]
  },
  {
   "cell_type": "code",
   "execution_count": null,
   "metadata": {},
   "outputs": [],
   "source": []
  },
  {
   "cell_type": "code",
   "execution_count": 111,
   "metadata": {},
   "outputs": [
    {
     "data": {
      "text/plain": [
       "count    9637.000000\n",
       "mean        2.646495\n",
       "std         0.093228\n",
       "min         2.450000\n",
       "25%         2.550000\n",
       "50%         2.700000\n",
       "75%         2.700000\n",
       "max         2.850000\n",
       "Name: ceiling_height, dtype: float64"
      ]
     },
     "execution_count": 111,
     "metadata": {},
     "output_type": "execute_result"
    }
   ],
   "source": [
    "df.ceiling_height.describe()"
   ]
  },
  {
   "cell_type": "code",
   "execution_count": 113,
   "metadata": {},
   "outputs": [
    {
     "data": {
      "text/plain": [
       "0    2.7\n",
       "dtype: float64"
      ]
     },
     "execution_count": 113,
     "metadata": {},
     "output_type": "execute_result"
    }
   ],
   "source": [
    "df.ceiling_height.mode()#значение которое встречается чаще всего в этом столбце, т.е.это и есть высота потолков, которая чаще всего встречается в объявлениях о продаже "
   ]
  },
  {
   "cell_type": "code",
   "execution_count": null,
   "metadata": {},
   "outputs": [],
   "source": []
  },
  {
   "cell_type": "code",
   "execution_count": 114,
   "metadata": {},
   "outputs": [
    {
     "data": {
      "text/plain": [
       "count    9637.000000\n",
       "mean       51.134635\n",
       "std        16.604522\n",
       "min        13.200000\n",
       "25%        38.600000\n",
       "50%        46.800000\n",
       "75%        61.000000\n",
       "max       108.400000\n",
       "Name: total_area, dtype: float64"
      ]
     },
     "execution_count": 114,
     "metadata": {},
     "output_type": "execute_result"
    }
   ],
   "source": [
    "df['total_area'].describe()"
   ]
  },
  {
   "cell_type": "code",
   "execution_count": 115,
   "metadata": {},
   "outputs": [
    {
     "data": {
      "text/plain": [
       "<matplotlib.axes._subplots.AxesSubplot at 0x1a62266c2b0>"
      ]
     },
     "execution_count": 115,
     "metadata": {},
     "output_type": "execute_result"
    },
    {
     "data": {
      "image/png": "[encoded data removed]",
      "text/plain": [
       "<Figure size 432x288 with 1 Axes>"
      ]
     },
     "metadata": {
      "needs_background": "light"
     },
     "output_type": "display_data"
    }
   ],
   "source": [
    "df.total_area.plot(kind='hist',\n",
    "                          title=' Гистограмма для total_area')"
   ]
  },
  {
   "cell_type": "code",
   "execution_count": 116,
   "metadata": {},
   "outputs": [
    {
     "data": {
      "text/plain": [
       "0    45.0\n",
       "dtype: float64"
      ]
     },
     "execution_count": 116,
     "metadata": {},
     "output_type": "execute_result"
    }
   ],
   "source": [
    "df['total_area'].mode()"
   ]
  },
  {
   "cell_type": "markdown",
   "metadata": {},
   "source": [
    "По данным выше мы видим что средняя площядь квартиры равна  51.134635 , а чаще всего вречающаяся площадь 45.0, по графику действительно видно что данное значение самок модальное, поэтому будем считать что типичная площадь квартиры равна 45 м2"
   ]
  },
  {
   "cell_type": "code",
   "execution_count": null,
   "metadata": {},
   "outputs": [],
   "source": []
  },
  {
   "cell_type": "code",
   "execution_count": 118,
   "metadata": {},
   "outputs": [
    {
     "data": {
      "text/plain": [
       "count    9.637000e+03\n",
       "mean     5.343125e+06\n",
       "std      2.037088e+06\n",
       "min      1.190000e+06\n",
       "25%      3.900000e+06\n",
       "50%      4.800000e+06\n",
       "75%      6.240000e+06\n",
       "max      1.390000e+07\n",
       "Name: last_price, dtype: float64"
      ]
     },
     "execution_count": 118,
     "metadata": {},
     "output_type": "execute_result"
    }
   ],
   "source": [
    "df['last_price'].describe()# здесь четко написано что средняя стоимость квартир равна (mean = 5.343125e+06)"
   ]
  },
  {
   "cell_type": "code",
   "execution_count": null,
   "metadata": {},
   "outputs": [],
   "source": []
  },
  {
   "cell_type": "code",
   "execution_count": 120,
   "metadata": {},
   "outputs": [
    {
     "data": {
      "image/png": "[encoded data removed]",
      "text/plain": [
       "<Figure size 864x720 with 2 Axes>"
      ]
     },
     "metadata": {
      "needs_background": "light"
     },
     "output_type": "display_data"
    }
   ],
   "source": [
    "plt.figure(figsize=(12,10))\n",
    "cor = df.corr()\n",
    "ax = sns.heatmap(cor, \n",
    "                 annot=True, \n",
    "                 vmin=-1, \n",
    "                 vmax=1, \n",
    "                 center=0)\n",
    "ax.set_xticklabels(\n",
    "    ax.get_xticklabels(),\n",
    "    rotation=45)\n",
    "plt.show()"
   ]
  },
  {
   "cell_type": "markdown",
   "metadata": {},
   "source": [
    "Эта матрица показываем нам какие признаки влияют друг на друга по всей нашей таблице.\n",
    "\n",
    "число комнат не сильно влияет на общую площадь квартиры коэф = 0,48\n",
    "\n",
    "признаки влияющие на стоимость квартиры это  total_area living_area"
   ]
  },
  {
   "cell_type": "code",
   "execution_count": null,
   "metadata": {},
   "outputs": [],
   "source": []
  }
 ],
 "metadata": {
  "kernelspec": {
   "display_name": "Python 3",
   "language": "python",
   "name": "python3"
  },
  "language_info": {
   "codemirror_mode": {
    "name": "ipython",
    "version": 3
   },
   "file_extension": ".py",
   "mimetype": "text/x-python",
   "name": "python",
   "nbconvert_exporter": "python",
   "pygments_lexer": "ipython3",
   "version": "3.8.3"
  }
 },
 "nbformat": 4,
 "nbformat_minor": 4
}
